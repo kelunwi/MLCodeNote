import matplotlib.pyplot as plt
import numpy as np
import os


m_x=np.loadtxt('mnist_x',delimiter=' ')


m_y=np.loadtxt('mnist_y')


data=np.reshape(np.array(m_x[0],int),[28,28])
# 创建一个图形床口用来配置属性
plt.figure()
plt.imshow(data,cmap='gray')
ratio=0.8
split=int(len(m_x)*ratio)
print(split)
np.random.seed(0)
# 对数据随机排列
idx=np.random.permutation(np.arange(len(m_x)))
m_x=m_x[idx]
m_y=m_y[idx]
print(m_x)
x_train,x_test=m_x[:split],m_x[split:]
y_train,y_test=m_y[:split],m_y[split:]


def distance(a,b):
    # a,b 间直线距离 
    return np.sqrt(np.sum(np.square(a-b)))
class KNN:
    def __init__(self,k,label_num):
        self.k=k
        self.label_num=label_num
    def fit(self,x_train,y_train):
        # 在类中保存训练数据
        self.x_train=x_train
        self.y_train=y_train
    def get_knn_indices(self,x):
        # 获取距离目标样本点最近的k个样本点的标签
        # 计算已知样本的距离
        # 确定 x_train 和 x 距离
        dis=list(map(lambda a:distance(a,x),self.x_train))
        print(dis)
        #按照距离排序，并得到对应下标
        knn_indices=np.argsort(dis)
        #去最近k个
        knn_indices=knn_indices[:self.k]
        return knn_indices
    def get_label(self,x):
        '''
        x：待分类样本
        获取分类样本周边的已分类样本
        label 中记录周围样本类别
        label_statistic[label]+=1 对不同类别进行技术
        然后返回类别最多的下标索引
        '''
        knn_indices=self.get_knn_indices(x)
        label_statistic=np.zeros(shape=[self.label_num])
        for i in knn_indices:
            # 获取训练样例的标签
            label=int(self.y_train[i])
            # 对这种标签进行计数，即统计某个分类的数量
            label_statistic[label]+=1
        # 返回数量最多的类别
        return np.argmax(label_statistic)
    def predict(self,x_text):
        predicted_test_labels = np.zeros(shape = [len(x_test)],dtype=int)
        for i ,x in enumerate(x_test):
            # 便利测试样本，获取类别
            predicted_test_labels[i] =self.get_label(x)
        return predicted_test_labels
for k in range(1,10):
    knn=KNN(k,10)
    knn.fit(x_train,y_train)
    predicted_labels =knn.predict(x_test)
    accuracy=np.mean(predicted_labels==y_test)
    print(f'K: {k},预测准确率为{accuracy*100:.1f}%')
# 整体流程 通过判断测试集中每个数据在k个已训练样本的范围内的分类情况，确定 测试集每个测试样本的类类别
# 分类过程中，首先初始化 已训练的样本和他们的标签集
# 找出测试集中每个需要分类的周边的k个样本
# 确定k样本中类别最大值的索引，便利所有测试集，完成处理


np.argmax?
