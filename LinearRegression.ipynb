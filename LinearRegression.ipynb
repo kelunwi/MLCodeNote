{
 "cells": [
  {
   "cell_type": "code",
   "execution_count": 9,
   "id": "3230b0be-9bfa-4997-a8f9-c4cf6202ea21",
   "metadata": {},
   "outputs": [
    {
     "name": "stdout",
     "output_type": "stream",
     "text": [
      "数据特征: Avg. Area Income,Avg. Area House Age,Avg. Area Number of Rooms,Avg. Area Number of Bedrooms,Area Population\n",
      "数据标签： Price\n",
      "数据总条数： 5000\n"
     ]
    }
   ],
   "source": [
    "# 处理数据\n",
    "# 划分训练集和测试集\n",
    "# 实现准备，计算均值和方差，\n",
    "import numpy as np\n",
    "import matplotlib.pyplot as plt\n",
    "from matplotlib.ticker import MaxNLocator\n",
    "from sklearn.preprocessing import StandardScaler # 标准化缩放器\n",
    "\n",
    "lines=np.loadtxt('USA_Housing.csv',delimiter=',',dtype='str')\n",
    "header=lines[0]\n",
    "lines=lines[1:].astype(float)\n",
    "print('数据特征:',','.join(header[:-1]))\n",
    "print('数据标签：',header[-1])\n",
    "print('数据总条数：',len(lines))"
   ]
  },
  {
   "cell_type": "code",
   "execution_count": null,
   "id": "5de0f0f7-91b0-403c-b74c-bf5df2339379",
   "metadata": {},
   "outputs": [],
   "source": []
  }
 ],
 "metadata": {
  "kernelspec": {
   "display_name": "Python 3 (ipykernel)",
   "language": "python",
   "name": "python3"
  },
  "language_info": {
   "codemirror_mode": {
    "name": "ipython",
    "version": 3
   },
   "file_extension": ".py",
   "mimetype": "text/x-python",
   "name": "python",
   "nbconvert_exporter": "python",
   "pygments_lexer": "ipython3",
   "version": "3.11.7"
  }
 },
 "nbformat": 4,
 "nbformat_minor": 5
}
