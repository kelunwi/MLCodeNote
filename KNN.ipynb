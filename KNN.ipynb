{
 "cells": [
  {
   "cell_type": "code",
   "execution_count": 3,
   "id": "47e58a33-ff59-4af0-a997-7c52c6ec30c1",
   "metadata": {},
   "outputs": [],
   "source": [
    "import matplotlib.pyplot as plt\n",
    "import numpy as np\n",
    "import os"
   ]
  },
  {
   "cell_type": "code",
   "execution_count": 4,
   "id": "d98911ad-ac6b-4296-8f05-da78c449cac1",
   "metadata": {},
   "outputs": [],
   "source": [
    "m_x=np.loadtxt('mnist_x',delimiter=' ')"
   ]
  },
  {
   "cell_type": "code",
   "execution_count": 5,
   "id": "e9526304-8bcd-477c-8dab-766832a82189",
   "metadata": {},
   "outputs": [],
   "source": [
    "m_y=np.loadtxt('mnist_y')"
   ]
  },
  {
   "cell_type": "code",
   "execution_count": 8,
   "id": "90690a96-eb6f-4e2b-bbed-7e574e0dbd16",
   "metadata": {},
   "outputs": [
    {
     "name": "stdout",
     "output_type": "stream",
     "text": [
      "800\n",
      "[993 859 298 553 672 971  27 231 306 706 496 558 784 239 578  55 906 175\n",
      "  14  77  31 481 310 311 883 788  45 103 760   1 823 710 614 790 408 736\n",
      " 957 366 918 267 230 996 635 698 251 783 819 141 316 587 331 295 262 432\n",
      " 862 582 272 270 987 319 569 643 142 202 413 196 264 531 252 576 738 299\n",
      " 740 247 926 412 389 796 601 654 261 456 386 982 909 693 236 501 497 874\n",
      " 452 494 923 279 638 485 568 108 367 644 785 873  65 902 317 636 666 789\n",
      " 958 214  97 583 466 523 255 385 545 382 489 513 780 904 122 946  60 844\n",
      " 372 283 939 608 495 630 596 713 753 624 312   8 529 876 101 615 520 249\n",
      " 278 424 384 395  54  34 271  30 403 757 975 990 457 362 860 483 580 986\n",
      " 688 864 927 378 320 942 351 418 945 795 145 826 492 751 240 648 886 144\n",
      " 767 999 467 315 989 922 717 458 773 204 834 832 435   5 769 679 722 215\n",
      " 653 150 687 500 332 979 817 620 814 516 518 940 113 612  37 894 895 992\n",
      " 158 154  40 585 805 592 964 266 406 294 604 522  18 425 527 308 622 794\n",
      "  62  79 680 193 750 181 535 484 200 364 991 462 356   2 478 695 253 667\n",
      "  85 969  75 786 658 465 920  38 944 725 436 140 818 602 745 471 342 416\n",
      " 711 557  50 162 765 856 867 524 443 172 956 330 352 857 766  39 852 875\n",
      " 156 222 641 210 746 960 700 167 998 984 491  10 105  68 479 399 434 258\n",
      " 827 884 304 811 938 924 526  20 905 380 420 285  71  49 179 506 929 116\n",
      " 293  76  48 503 263 808 863 748  64 798  52 440 124 650 409 752 952 477\n",
      " 118  12 157 337 127  46 235 538 241 590 358 959 848 792 325 899 809 350\n",
      " 363  17 186 402 338 206 963 345 313 242 913 170 187 934 133 301 731 670\n",
      " 318  78 521 346 198 865 548 915 588 447  21 724 718 250 243 571  35  81\n",
      " 159 333 837 474 671 109 661 379 625 603  92 451 652 822 855 390 577 985\n",
      " 422 211 171 165 238 188 685 803 344 741 453 646 830 155 487 597 988 125\n",
      "  66 908 511 224 268 161 813 618 676 178 950 415 100 733 689 229 334 627\n",
      " 702 878 482 919 220 391 912 427 309 775 885  15 493 245 898   6 613 533\n",
      " 397 721 858 691 104 303 549 729 208 302  51  90 354 632 460  22 374 546\n",
      " 439 218 737 505 605 801 948 683 205 647 190 361 664 375 631 185 732 404\n",
      " 194 564 401 530 656 441 132 233 173 428 567 967 758 626  96 781 499  74\n",
      "  89 609   0 392 476 799 519 107 708 634 223 327 102 704 475 213 135 246\n",
      " 970 891 619 815 365 812  26 642 417 907 921   3 134 355 877 768 836 561\n",
      " 892 225 820 369 681 339 419 829 951 454  63 759 360 237 112 640 532 126\n",
      " 259 742 761 137   7 502 831 762 851 407 692 353 153 566 542 343 887 997\n",
      " 825  56 400 572 473 468 651 669 504 900 649 931 300 674 665 570 163 336\n",
      "  59 821 933 490 787 449 703 437 563 720 890 219 678 586 282 348 686   4\n",
      " 995 463 776 682 879 517 573 793 893 534 903 276 284 470 426 281 120 593\n",
      " 981  13 655 455 584 955 160 977 973 715 744 195 191 628 536 880 164 106\n",
      "  16 575 925 712 540 329 480 498 968 405 743  93 433  83 843 914 657 414\n",
      " 662 978 771 728 911 807 322 556 357  69 514 509 340 221 928 146 289  29\n",
      " 114 508 810 972 176 168 347 376 764 871 889 772 189 136 446 839 254 881\n",
      " 290 941 954 232 645  33  88  44 341  61 953 199 429 747 394 730 297  73\n",
      " 393 547 579 541 854 833 840 663 217 539 828 623 668 824 421 694 138 212\n",
      " 616 842 838 866 727 965 701 726 917 716 234  67  24 381 216 735 129 349\n",
      " 111 166 207 438 552 274 974 591 800 937 525 287 469 326 121 994 507 228\n",
      " 673 595 445 117 464  25 110 149 152 528 696 621 461 598 139 749 260 961\n",
      " 323 897 248 450 410 607  19 328 296 269 226  94 515 841 637 280 286 589\n",
      " 930 444 184 371 872 976 275 806 935 182  32  80 307 770  11  43  86 778\n",
      "  36 980  58  41 782 411 562 209 148 739 594 123 734 574  98 377 130 699\n",
      "  23 869 555 370 512 383 201 368 554 610 387 861 816 292 690 256 606 197\n",
      "  95 962 943 169 581 305 560 853 373 719 791 227 660 143 846 180 868 131\n",
      " 949  47 774 324 203  84 633 565 611 398 896  91  82 430 779 119 870 291\n",
      "  57 321 257 888 947 442  42 617 388 335 273 756 488 550 901  53 932 936\n",
      " 128 802  28 183 882 459 510 675 151 244 714 543 544 639 697 265 288 423\n",
      " 910 147 659 797 966 177  99 850 448 431 847 709 755 115 916 777  72 845\n",
      " 537 677 849 983 174  87 551 486 705 314 396 600 472  70 599 804 754 277\n",
      " 723   9 359 707 763 835 192 629 559 684]\n",
      "[[0. 0. 0. ... 0. 0. 0.]\n",
      " [0. 0. 0. ... 0. 0. 0.]\n",
      " [0. 0. 0. ... 0. 0. 0.]\n",
      " ...\n",
      " [0. 0. 0. ... 0. 0. 0.]\n",
      " [0. 0. 0. ... 0. 0. 0.]\n",
      " [0. 0. 0. ... 0. 0. 0.]]\n"
     ]
    },
    {
     "data": {
      "image/png": "[encoded data removed]",
      "text/plain": [
       "<Figure size 640x480 with 1 Axes>"
      ]
     },
     "metadata": {},
     "output_type": "display_data"
    }
   ],
   "source": [
    "data=np.reshape(np.array(m_x[0],int),[28,28])\n",
    "# 创建一个图形床口用来配置属性\n",
    "plt.figure()\n",
    "plt.imshow(data,cmap='gray')\n",
    "ratio=0.8\n",
    "split=int(len(m_x)*ratio)\n",
    "print(split)\n",
    "np.random.seed(0)\n",
    "# 对数据随机排列\n",
    "idx=np.random.permutation(np.arange(len(m_x)))\n",
    "m_x=m_x[idx]\n",
    "m_y=m_y[idx]\n",
    "print(m_x)\n",
    "x_train,x_test=m_x[:split],m_x[split:]\n",
    "y_train,y_test=m_y[:split],m_y[split:]"
   ]
  },
  {
   "cell_type": "code",
   "execution_count": 86,
   "id": "da58485f-82e3-417e-a640-2888180ae907",
   "metadata": {},
   "outputs": [
    {
     "name": "stdout",
     "output_type": "stream",
     "text": [
      "K: 1,预测准确率为85.5%\n",
      "K: 2,预测准确率为86.0%\n",
      "K: 3,预测准确率为85.5%\n",
      "K: 4,预测准确率为85.5%\n",
      "K: 5,预测准确率为86.0%\n",
      "K: 6,预测准确率为84.5%\n",
      "K: 7,预测准确率为85.0%\n",
      "K: 8,预测准确率为84.0%\n",
      "K: 9,预测准确率为84.5%\n"
     ]
    }
   ],
   "source": [
    "def distance(a,b):\n",
    "    # a,b 间直线距离 \n",
    "    return np.sqrt(np.sum(np.square(a-b)))\n",
    "class KNN:\n",
    "    def __init__(self,k,label_num):\n",
    "        self.k=k\n",
    "        self.label_num=label_num\n",
    "    def fit(self,x_train,y_train):\n",
    "        # 在类中保存训练数据\n",
    "        self.x_train=x_train\n",
    "        self.y_train=y_train\n",
    "    def get_knn_indices(self,x):\n",
    "        # 获取距离目标样本点最近的k个样本点的标签\n",
    "        # 计算已知样本的距离\n",
    "        # 确定 x_train 和 x 距离\n",
    "        dis=list(map(lambda a:distance(a,x),self.x_train))\n",
    "        print(dis)\n",
    "        #按照距离排序，并得到对应下标\n",
    "        knn_indices=np.argsort(dis)\n",
    "        #去最近k个\n",
    "        knn_indices=knn_indices[:self.k]\n",
    "        return knn_indices\n",
    "    def get_label(self,x):\n",
    "        '''\n",
    "        x：待分类样本\n",
    "        获取分类样本周边的已分类样本\n",
    "        label 中记录周围样本类别\n",
    "        label_statistic[label]+=1 对不同类别进行技术\n",
    "        然后返回类别最多的下标索引\n",
    "        '''\n",
    "        knn_indices=self.get_knn_indices(x)\n",
    "        label_statistic=np.zeros(shape=[self.label_num])\n",
    "        for i in knn_indices:\n",
    "            # 获取训练样例的标签\n",
    "            label=int(self.y_train[i])\n",
    "            # 对这种标签进行计数，即统计某个分类的数量\n",
    "            label_statistic[label]+=1\n",
    "        # 返回数量最多的类别\n",
    "        return np.argmax(label_statistic)\n",
    "    def predict(self,x_text):\n",
    "        predicted_test_labels = np.zeros(shape = [len(x_test)],dtype=int)\n",
    "        for i ,x in enumerate(x_test):\n",
    "            # 便利测试样本，获取类别\n",
    "            predicted_test_labels[i] =self.get_label(x)\n",
    "        return predicted_test_labels\n",
    "for k in range(1,10):\n",
    "    knn=KNN(k,10)\n",
    "    knn.fit(x_train,y_train)\n",
    "    predicted_labels =knn.predict(x_test)\n",
    "    accuracy=np.mean(predicted_labels==y_test)\n",
    "    print(f'K: {k},预测准确率为{accuracy*100:.1f}%')\n",
    "# 整体流程 通过判断测试集中每个数据在k个已训练样本的范围内的分类情况，确定 测试集每个测试样本的类类别\n",
    "# 分类过程中，首先初始化 已训练的样本和他们的标签集\n",
    "# 找出测试集中每个需要分类的周边的k个样本\n",
    "# 确定k样本中类别最大值的索引，便利所有测试集，完成处理"
   ]
  },
  {
   "cell_type": "code",
   "execution_count": 3,
   "id": "810b5e69-f0b0-4a11-bf55-3e4d543b1a02",
   "metadata": {},
   "outputs": [
    {
     "name": "stdout",
     "output_type": "stream",
     "text": [
      "311\n"
     ]
    }
   ],
   "source": [
    "print(311)"
   ]
  }
 ],
 "metadata": {
  "kernelspec": {
   "display_name": "Python 3 (ipykernel)",
   "language": "python",
   "name": "python3"
  },
  "language_info": {
   "codemirror_mode": {
    "name": "ipython",
    "version": 3
   },
   "file_extension": ".py",
   "mimetype": "text/x-python",
   "name": "python",
   "nbconvert_exporter": "python",
   "pygments_lexer": "ipython3",
   "version": "3.11.7"
  }
 },
 "nbformat": 4,
 "nbformat_minor": 5
}
